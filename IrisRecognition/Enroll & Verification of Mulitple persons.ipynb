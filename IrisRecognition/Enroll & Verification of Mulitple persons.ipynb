{
 "cells": [
  {
   "cell_type": "markdown",
   "id": "0cd23c9e",
   "metadata": {},
   "source": [
    "- I used CASIA! data as testing images for enrollement and Verification"
   ]
  },
  {
   "cell_type": "code",
   "execution_count": 1,
   "id": "2f6fd849",
   "metadata": {},
   "outputs": [],
   "source": [
    "import warnings\n",
    "warnings.filterwarnings(\"ignore\")"
   ]
  },
  {
   "cell_type": "code",
   "execution_count": 2,
   "id": "fc6b053f",
   "metadata": {},
   "outputs": [],
   "source": [
    "import argparse, os\n",
    "from glob import glob\n",
    "from tqdm import tqdm\n",
    "from time import time\n",
    "from scipy.io import savemat\n",
    "from multiprocessing import cpu_count, Pool\n",
    "\n",
    "from helpers.extractFeature import extractFeature"
   ]
  },
  {
   "cell_type": "code",
   "execution_count": 3,
   "id": "d99f62b8",
   "metadata": {},
   "outputs": [],
   "source": [
    "args = {\n",
    "    'data_dir': '../input/CASIA1/',\n",
    "    'temp_dir': './templates/CASIA1/',\n",
    "}"
   ]
  },
  {
   "cell_type": "code",
   "execution_count": 4,
   "id": "69b45ae5",
   "metadata": {},
   "outputs": [],
   "source": [
    "def pool_func(file):\n",
    "    template, mask, _ = extractFeature(file, use_multiprocess=False)\n",
    "    basename = os.path.basename(file)\n",
    "    out_file = os.path.join(args['temp_dir'], \"%s.tmpl\" % (basename))\n",
    "    savemat(out_file, mdict={'template': template, 'mask': mask})"
   ]
  },
  {
   "cell_type": "code",
   "execution_count": 5,
   "id": "103881d2",
   "metadata": {},
   "outputs": [],
   "source": [
    "os.path.join(args['data_dir'], \"1/*.jpg\")"
   ]
  },
  {
   "cell_type": "code",
   "execution_count": 6,
   "id": "5c54b367",
   "metadata": {},
   "outputs": [],
   "source": [
    "files = glob(os.path.join(args['data_dir'], \"1/*.jpg\"))\n",
    "print(len(files))"
   ]
  },
  {
   "cell_type": "code",
   "execution_count": 7,
   "id": "667f73d2",
   "metadata": {},
   "outputs": [],
   "source": [
    "start = time()\n",
    "\n",
    "# Check the existence of temp_dir\n",
    "if not os.path.exists(args['temp_dir']):\n",
    "    print(\"makedirs\", args['temp_dir'])\n",
    "    os.makedirs(args['temp_dir'])\n",
    "\n",
    "# Get list of files for enrolling template, just \"xxx_1_x.jpg\" files are selected\n",
    "files = glob(os.path.join(args['data_dir'], \"1/*.jpg\"))\n",
    "\n",
    "n_files = len(files)\n",
    "print(\"Number of files for enrolling:\", n_files)\n",
    "\n",
    "# Parallel pools to enroll templates\n",
    "print(\"Start enrolling...\")\n",
    "pools = Pool(processes=cpu_count())\n",
    "\n",
    "for _ in tqdm(pools.imap_unordered(pool_func, files), total=n_files):\n",
    "    pass\n",
    "\n",
    "end = time()\n",
    "print('\\n>>> Enrollment time: {} [s]\\n'.format(end-start))"
   ]
  },
  {
   "cell_type": "code",
   "execution_count": null,
   "id": "73b30265",
   "metadata": {},
   "outputs": [],
   "source": []
  },
  {
   "cell_type": "code",
   "execution_count": null,
   "id": "ce8e8312",
   "metadata": {},
   "outputs": [],
   "source": []
  },
  {
   "cell_type": "markdown",
   "id": "cdae2b64",
   "metadata": {},
   "source": []
  }
 ],
 "metadata": {
  "kernelspec": {
   "display_name": "Python [conda env:torch] *",
   "language": "python",
   "name": "conda-env-torch-py"
  },
  "language_info": {
   "codemirror_mode": {
    "name": "ipython",
    "version": 3
   },
   "file_extension": ".py",
   "mimetype": "text/x-python",
   "name": "python",
   "nbconvert_exporter": "python",
   "pygments_lexer": "ipython3",
   "version": "3.8.12"
  }
 },
 "nbformat": 4,
 "nbformat_minor": 5
}
