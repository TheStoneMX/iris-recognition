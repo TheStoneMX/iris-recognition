{
 "cells": [
  {
   "cell_type": "markdown",
   "id": "d17bca4e",
   "metadata": {},
   "source": [
    "- I used MMU2 dataset which contains 995 images corresponding to 100 people. \n",
    "- Each person was captured two eyes and each eye was captured 5 images (But one person is only captured one eye). \n",
    "- In which, with each eye, 3 random images are selected for the training set and the rest belong to the testing set. "
   ]
  },
  {
   "cell_type": "code",
   "execution_count": 1,
   "id": "ce281cfa",
   "metadata": {},
   "outputs": [],
   "source": [
    "import warnings\n",
    "warnings.filterwarnings(\"ignore\")"
   ]
  },
  {
   "cell_type": "code",
   "execution_count": 2,
   "id": "3922534e",
   "metadata": {},
   "outputs": [],
   "source": [
    "import argparse, os\n",
    "from cv2 import imread\n",
    "\n",
    "from time import time\n",
    "from scipy.io import savemat\n",
    "\n"
   ]
  },
  {
   "cell_type": "code",
   "execution_count": 3,
   "id": "94d87746",
   "metadata": {},
   "outputs": [],
   "source": [
    "from helpers.extractFeature import extractFeature\n",
    "from helpers.segment import segment\n",
    "from helpers.normalize import normalize\n",
    "from helpers.encode import encode"
   ]
  },
  {
   "cell_type": "code",
   "execution_count": 4,
   "id": "90cbfd18",
   "metadata": {},
   "outputs": [],
   "source": [
    "# Segmentation parameters\n",
    "eyelashes_thres = 80\n",
    "\n",
    "# Normalisation parameters\n",
    "radial_res = 20\n",
    "angular_res = 240\n",
    "\n",
    "# Feature encoding parameters\n",
    "minWaveLength = 18\n",
    "mult = 1\n",
    "sigmaOnf = 0.5"
   ]
  },
  {
   "cell_type": "code",
   "execution_count": 5,
   "id": "87af1f25",
   "metadata": {},
   "outputs": [],
   "source": [
    "# Description:\n",
    "#     Extract features from an iris image\n",
    "\n",
    "# Input:\n",
    "#     im_filename - The input iris image\n",
    "#     use_multiprocess - Use multiprocess to run\n",
    "\n",
    "# Output:\n",
    "#     template    - The extracted template\n",
    "#     mask        - The extracted mask\n",
    "#     im_filename - The input iris image\n",
    "    \n",
    "def extractFeature(im_filename, eyelashes_thres=80, use_multiprocess=True):\n",
    "\n",
    "    # Perform segmentation\n",
    "    im = imread(im_filename, 0)\n",
    "    ciriris, cirpupil, imwithnoise = segment(im, eyelashes_thres, use_multiprocess)\n",
    "\n",
    "    # Perform normalization\n",
    "    polar_array, noise_array = normalize(imwithnoise, ciriris[1], ciriris[0], ciriris[2],\n",
    "                                         cirpupil[1], cirpupil[0], cirpupil[2],\n",
    "                                         radial_res, angular_res)\n",
    "\n",
    "    # Perform feature encoding\n",
    "    template, mask = encode(polar_array, noise_array, minWaveLength, mult, sigmaOnf)\n",
    "\n",
    "    # Return\n",
    "    return template, mask, im_filename"
   ]
  },
  {
   "cell_type": "code",
   "execution_count": 6,
   "id": "0c04541c",
   "metadata": {},
   "outputs": [
    {
     "name": "stdout",
     "output_type": "stream",
     "text": [
      ">>> Enroll for the file  ../input/CASIA1/1/001_1_1.jpg\n"
     ]
    }
   ],
   "source": [
    "\n",
    "start = time()\n",
    "file = \"../input/CASIA1/1/001_1_1.jpg\"\n",
    "\n",
    "# Extract feature\n",
    "print('>>> Enroll for the file ', file)\n"
   ]
  },
  {
   "cell_type": "code",
   "execution_count": 7,
   "id": "f3eeff24",
   "metadata": {},
   "outputs": [],
   "source": [
    "template, mask, file = extractFeature(file)"
   ]
  },
  {
   "cell_type": "code",
   "execution_count": 9,
   "id": "3e308e06",
   "metadata": {},
   "outputs": [
    {
     "name": "stdout",
     "output_type": "stream",
     "text": [
      ">>> Template is saved in ./templates/001_1_1.jpg.tmpl\n",
      ">>> Enrollment time: 27.629552125930786 [s]\n",
      "\n"
     ]
    }
   ],
   "source": [
    "# Save extracted feature\n",
    "basename = os.path.basename(file)\n",
    "\n",
    "out_file = os.path.join('./templates/', \"%s.tmpl\" % (basename))\n",
    "\n",
    "savemat(out_file, mdict={'template':template, 'mask':mask})\n",
    "\n",
    "print('>>> Template is saved in %s' % (out_file))\n",
    "\n",
    "end = time()\n",
    "\n",
    "print('>>> Enrollment time: {} [s]\\n'.format(end-start))"
   ]
  },
  {
   "cell_type": "code",
   "execution_count": null,
   "id": "c8c476f9",
   "metadata": {},
   "outputs": [],
   "source": []
  },
  {
   "cell_type": "code",
   "execution_count": null,
   "id": "fa46bdda",
   "metadata": {},
   "outputs": [],
   "source": []
  },
  {
   "cell_type": "code",
   "execution_count": null,
   "id": "15161c51",
   "metadata": {},
   "outputs": [],
   "source": []
  },
  {
   "cell_type": "code",
   "execution_count": null,
   "id": "42d8994c",
   "metadata": {},
   "outputs": [],
   "source": []
  },
  {
   "cell_type": "code",
   "execution_count": null,
   "id": "293d5e98",
   "metadata": {},
   "outputs": [],
   "source": []
  },
  {
   "cell_type": "code",
   "execution_count": null,
   "id": "fd745001",
   "metadata": {},
   "outputs": [],
   "source": []
  },
  {
   "cell_type": "code",
   "execution_count": null,
   "id": "5a75adfb",
   "metadata": {},
   "outputs": [],
   "source": []
  },
  {
   "cell_type": "code",
   "execution_count": null,
   "id": "21a9efd2",
   "metadata": {},
   "outputs": [],
   "source": []
  },
  {
   "cell_type": "code",
   "execution_count": null,
   "id": "e235f6af",
   "metadata": {},
   "outputs": [],
   "source": []
  },
  {
   "cell_type": "code",
   "execution_count": null,
   "id": "e55b6740",
   "metadata": {},
   "outputs": [],
   "source": []
  }
 ],
 "metadata": {
  "kernelspec": {
   "display_name": "Python [conda env:torch] *",
   "language": "python",
   "name": "conda-env-torch-py"
  },
  "language_info": {
   "codemirror_mode": {
    "name": "ipython",
    "version": 3
   },
   "file_extension": ".py",
   "mimetype": "text/x-python",
   "name": "python",
   "nbconvert_exporter": "python",
   "pygments_lexer": "ipython3",
   "version": "3.8.12"
  }
 },
 "nbformat": 4,
 "nbformat_minor": 5
}
