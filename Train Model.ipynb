{
 "cells": [
  {
   "cell_type": "markdown",
   "id": "b0a2782e",
   "metadata": {},
   "source": [
    "### Will train our LivenessNet classifier. Used TensorFlow to train the model.\n",
    "process results in a few files:\n",
    "    - le.pickle : Our class label encoder.\n",
    "    - liveness.model : Our serialized Tensorflow model which detects face liveness.\n",
    "    - plot.png : The training history plot shows accuracy and loss curves so we can assess our model "
   ]
  },
  {
   "cell_type": "code",
   "execution_count": 1,
   "id": "0e10db19",
   "metadata": {},
   "outputs": [],
   "source": [
    "import warnings\n",
    "warnings.filterwarnings(\"ignore\")"
   ]
  },
  {
   "cell_type": "code",
   "execution_count": 2,
   "id": "614c7797",
   "metadata": {},
   "outputs": [],
   "source": [
    "# set the matplotlib backend so figures can be saved in the background\n",
    "import matplotlib\n",
    "matplotlib.use(\"Agg\")\n",
    "\n",
    "# import the necessary packages\n",
    "from pyimagesearch.livenessnet import LivenessNet\n",
    "from sklearn.preprocessing import LabelEncoder\n",
    "from sklearn.model_selection import train_test_split\n",
    "from sklearn.metrics import classification_report\n",
    "from tensorflow.keras.preprocessing.image import ImageDataGenerator\n",
    "from tensorflow.keras.optimizers import Adam\n",
    "from tensorflow.keras.utils import to_categorical\n",
    "from imutils import paths\n",
    "import matplotlib.pyplot as plt\n",
    "import numpy as np\n",
    "import argparse\n",
    "import pickle\n",
    "import cv2\n",
    "import os"
   ]
  },
  {
   "cell_type": "code",
   "execution_count": 3,
   "id": "3f85ffd9",
   "metadata": {},
   "outputs": [],
   "source": [
    "from tensorflow.keras.models import model_from_json\n",
    "# model.load_weights('vgg_face_weights.h5')"
   ]
  },
  {
   "cell_type": "code",
   "execution_count": 4,
   "id": "f08f48ad",
   "metadata": {},
   "outputs": [],
   "source": [
    "args = {\n",
    "    'dataset': 'dataset', # path to input dataset\n",
    "    'model': 'liveness.model', # path to trained model\n",
    "    'le': 'le.pickle', # path to label encoder\n",
    "    'plot':'plot.png', # output loss/accuracy plot \n",
    "}"
   ]
  },
  {
   "cell_type": "code",
   "execution_count": 5,
   "id": "d8f4dc08",
   "metadata": {},
   "outputs": [],
   "source": [
    "# initialize the initial learning rate, batch size, and number of\n",
    "# epochs to train for\n",
    "INIT_LR = 1e-4\n",
    "BS = 64\n",
    "EPOCHS = 101"
   ]
  },
  {
   "cell_type": "code",
   "execution_count": 6,
   "id": "81d513d5",
   "metadata": {},
   "outputs": [
    {
     "name": "stdout",
     "output_type": "stream",
     "text": [
      "[INFO] Get list of images\n",
      "imagePaths len:  1464\n",
      "[INFO] Done.\n"
     ]
    }
   ],
   "source": [
    "# grab the list of images in our dataset directory, then initialize\n",
    "# the list of data (i.e., images) and class images\n",
    "print(\"[INFO] Get list of images\")\n",
    "imagePaths = list(paths.list_images(args[\"dataset\"]))\n",
    "print('imagePaths len: ', len(imagePaths))\n",
    "data = []\n",
    "labels = []\n",
    "print(\"[INFO] Done.\")\n"
   ]
  },
  {
   "cell_type": "code",
   "execution_count": 7,
   "id": "8f2c9304",
   "metadata": {},
   "outputs": [
    {
     "name": "stdout",
     "output_type": "stream",
     "text": [
      "[INFO] loading images...\n",
      "[INFO] done loading images...\n"
     ]
    }
   ],
   "source": [
    "# loop over all image paths\n",
    "print(\"[INFO] loading images...\")\n",
    "for imagePath in imagePaths:\n",
    "    # extract the class label from the filename, load the image and\n",
    "    # resize it to be a fixed 32x32 pixels, ignoring aspect ratio\n",
    "    label = imagePath.split(os.path.sep)[-2]\n",
    "    image = cv2.imread(imagePath)\n",
    "    image = cv2.resize(image, (32, 32))\n",
    "\n",
    "    # update the data and labels lists, respectively\n",
    "    data.append(image)\n",
    "    labels.append(label)\n",
    "    \n",
    "print(\"[INFO] done loading images...\")"
   ]
  },
  {
   "cell_type": "code",
   "execution_count": 8,
   "id": "d40760fc",
   "metadata": {},
   "outputs": [],
   "source": [
    "# convert the data into a NumPy array, then preprocess it by scaling\n",
    "# all pixel intensities to the range [0, 1]\n",
    "data = np.array(data, dtype=\"float\") / 255.0 # normalizing images"
   ]
  },
  {
   "cell_type": "code",
   "execution_count": 9,
   "id": "cf20a336",
   "metadata": {},
   "outputs": [],
   "source": [
    "# encode the labels (which are currently strings) as integers and then one-hot encode them\n",
    "le = LabelEncoder()\n",
    "labels = le.fit_transform(labels)\n",
    "labels = to_categorical(labels, 2)"
   ]
  },
  {
   "cell_type": "code",
   "execution_count": 10,
   "id": "891f3b09",
   "metadata": {},
   "outputs": [],
   "source": [
    "# partition the data into training and testing splits using 75% of\n",
    "# the data for training and the remaining 25% for testing\n",
    "(trainX, testX, trainY, testY) = train_test_split(data, labels, test_size=0.25, random_state=42)"
   ]
  },
  {
   "cell_type": "code",
   "execution_count": 11,
   "id": "32fb955b",
   "metadata": {},
   "outputs": [],
   "source": [
    "# construct the training image generator with data augmentation\n",
    "aug = ImageDataGenerator(rotation_range=20, \n",
    "                         zoom_range=0.15, \n",
    "                         width_shift_range=0.2, \n",
    "                         height_shift_range=0.2, \n",
    "                         shear_range=0.15,\n",
    "                         horizontal_flip=True, \n",
    "                         fill_mode=\"nearest\")"
   ]
  },
  {
   "cell_type": "code",
   "execution_count": 12,
   "id": "243dc7e8",
   "metadata": {},
   "outputs": [
    {
     "name": "stdout",
     "output_type": "stream",
     "text": [
      "[INFO] compiling model...\n"
     ]
    }
   ],
   "source": [
    "# initialize the optimizer and model\n",
    "print(\"[INFO] compiling model...\")\n",
    "opt = Adam(lr=INIT_LR, decay=INIT_LR / EPOCHS)\n",
    "\n",
    "model = LivenessNet.build(width=32, height=32, depth=3, classes=len(le.classes_))\n",
    "\n",
    "model.compile(loss=\"binary_crossentropy\", optimizer=opt, metrics=[\"accuracy\"])"
   ]
  },
  {
   "cell_type": "code",
   "execution_count": null,
   "id": "bc6d41c2",
   "metadata": {
    "scrolled": true
   },
   "outputs": [
    {
     "name": "stdout",
     "output_type": "stream",
     "text": [
      "[INFO] training network for 101 epochs...\n"
     ]
    }
   ],
   "source": [
    "# train the network\n",
    "print(\"[INFO] training network for {} epochs...\".format(EPOCHS))\n",
    "H = model.fit(x=aug.flow(trainX, \n",
    "                         trainY, \n",
    "                         batch_size=BS), \n",
    "                         validation_data=(testX, testY), \n",
    "                         steps_per_epoch=len(trainX) // BS,\n",
    "                         epochs=EPOCHS,\n",
    "                         verbose=0)"
   ]
  },
  {
   "cell_type": "code",
   "execution_count": 14,
   "id": "3f3aaf75",
   "metadata": {},
   "outputs": [
    {
     "name": "stdout",
     "output_type": "stream",
     "text": [
      "[INFO] evaluating network...\n",
      "              precision    recall  f1-score   support\n",
      "\n",
      "        fake       0.47      0.37      0.41       181\n",
      "        real       0.49      0.59      0.53       185\n",
      "\n",
      "    accuracy                           0.48       366\n",
      "   macro avg       0.48      0.48      0.47       366\n",
      "weighted avg       0.48      0.48      0.47       366\n",
      "\n"
     ]
    }
   ],
   "source": [
    "# evaluate the network\n",
    "print(\"[INFO] evaluating network...\")\n",
    "predictions = model.predict(x=testX, batch_size=BS)\n",
    "print(classification_report(testY.argmax(axis=1), predictions.argmax(axis=1), target_names=le.classes_))"
   ]
  },
  {
   "cell_type": "code",
   "execution_count": 15,
   "id": "32f50035",
   "metadata": {},
   "outputs": [
    {
     "name": "stdout",
     "output_type": "stream",
     "text": [
      "[INFO] serializing network to 'liveness.model'...\n"
     ]
    }
   ],
   "source": [
    "# save the network to disk\n",
    "print(\"[INFO] serializing network to '{}'...\".format(args[\"model\"]))\n",
    "model.save(args[\"model\"], save_format=\"h5\")"
   ]
  },
  {
   "cell_type": "code",
   "execution_count": 16,
   "id": "1a9faacb",
   "metadata": {},
   "outputs": [],
   "source": [
    "# save the label encoder to disk\n",
    "f = open(args[\"le\"], \"wb\")\n",
    "f.write(pickle.dumps(le))\n",
    "f.close()"
   ]
  },
  {
   "cell_type": "code",
   "execution_count": 17,
   "id": "9cd62d45",
   "metadata": {},
   "outputs": [],
   "source": [
    "# plot the training loss and accuracy\n",
    "plt.style.use(\"ggplot\")\n",
    "plt.figure()\n",
    "plt.plot(np.arange(0, EPOCHS), H.history[\"loss\"], label=\"train_loss\")\n",
    "plt.plot(np.arange(0, EPOCHS), H.history[\"val_loss\"], label=\"val_loss\")\n",
    "plt.plot(np.arange(0, EPOCHS), H.history[\"accuracy\"], label=\"train_acc\")\n",
    "plt.plot(np.arange(0, EPOCHS), H.history[\"val_accuracy\"], label=\"val_acc\")\n",
    "plt.title(\"Training Loss and Accuracy on Dataset\")\n",
    "plt.xlabel(\"Epoch #\")\n",
    "plt.ylabel(\"Loss/Accuracy\")\n",
    "plt.legend(loc=\"lower left\")\n",
    "plt.savefig(args[\"plot\"])"
   ]
  },
  {
   "cell_type": "code",
   "execution_count": null,
   "id": "827c73fd",
   "metadata": {},
   "outputs": [],
   "source": []
  },
  {
   "cell_type": "code",
   "execution_count": null,
   "id": "595e6378",
   "metadata": {},
   "outputs": [],
   "source": []
  },
  {
   "cell_type": "code",
   "execution_count": null,
   "id": "1e0708b3",
   "metadata": {},
   "outputs": [],
   "source": []
  },
  {
   "cell_type": "code",
   "execution_count": null,
   "id": "2c9b113c",
   "metadata": {},
   "outputs": [],
   "source": []
  }
 ],
 "metadata": {
  "kernelspec": {
   "display_name": "Python [conda env:tensorflow] *",
   "language": "python",
   "name": "conda-env-tensorflow-py"
  },
  "language_info": {
   "codemirror_mode": {
    "name": "ipython",
    "version": 3
   },
   "file_extension": ".py",
   "mimetype": "text/x-python",
   "name": "python",
   "nbconvert_exporter": "python",
   "pygments_lexer": "ipython3",
   "version": "3.8.12"
  }
 },
 "nbformat": 4,
 "nbformat_minor": 5
}
